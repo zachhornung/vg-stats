{
 "metadata": {
  "language_info": {
   "codemirror_mode": {
    "name": "ipython",
    "version": 3
   },
   "file_extension": ".py",
   "mimetype": "text/x-python",
   "name": "python",
   "nbconvert_exporter": "python",
   "pygments_lexer": "ipython3",
   "version": "3.9.4"
  },
  "orig_nbformat": 2,
  "kernelspec": {
   "name": "python3",
   "display_name": "Python 3",
   "language": "python"
  }
 },
 "nbformat": 4,
 "nbformat_minor": 2,
 "cells": [
  {
   "cell_type": "code",
   "execution_count": 23,
   "metadata": {},
   "outputs": [],
   "source": [
    "import pandas as pd"
   ]
  },
  {
   "cell_type": "code",
   "execution_count": 25,
   "metadata": {},
   "outputs": [
    {
     "output_type": "stream",
     "name": "stderr",
     "text": [
      "/home/zachhornung/.local/lib/python3.9/site-packages/IPython/core/interactiveshell.py:3165: DtypeWarning: Columns (0,4,11) have mixed types.Specify dtype option on import or set low_memory=False.\n  has_raised = await self.run_ast_nodes(code_ast.body, cell_name,\n"
     ]
    }
   ],
   "source": [
    "station_df = pd.read_csv('station.csv')\n",
    "trip_df = pd.read_csv('trip.csv')\n",
    "weather_df = pd.read_csv('weather.csv')\n"
   ]
  },
  {
   "cell_type": "code",
   "execution_count": 5,
   "metadata": {},
   "outputs": [
    {
     "output_type": "execute_result",
     "data": {
      "text/plain": [
       "  station_id                            name        lat        long  \\\n",
       "0      BT-01              3rd Ave & Broad St  47.618418 -122.350964   \n",
       "1      BT-03               2nd Ave & Vine St  47.615829 -122.348564   \n",
       "2      BT-04          6th Ave & Blanchard St  47.616094 -122.341102   \n",
       "3      BT-05          2nd Ave & Blanchard St  47.613110 -122.344208   \n",
       "4     CBD-03              7th Ave & Union St  47.610731 -122.332447   \n",
       "5     CBD-04              Union St & 4th Ave  47.609221 -122.335596   \n",
       "6     CBD-05             1st Ave & Marion St  47.604058 -122.335800   \n",
       "7     CBD-06             2nd Ave & Spring St  47.605950 -122.335768   \n",
       "8     CBD-07  City Hall / 4th Ave & James St  47.603509 -122.330409   \n",
       "9     CBD-13               2nd Ave & Pine St  47.610185 -122.339641   \n",
       "\n",
       "  install_date  install_dockcount modification_date  current_dockcount  \\\n",
       "0   10/13/2014                 18               NaN                 18   \n",
       "1   10/13/2014                 16               NaN                 16   \n",
       "2   10/13/2014                 16               NaN                 16   \n",
       "3   10/13/2014                 14               NaN                 14   \n",
       "4   10/13/2014                 20               NaN                 20   \n",
       "5    7/27/2015                 18               NaN                 18   \n",
       "6   10/13/2014                 20               NaN                 20   \n",
       "7   10/13/2014                 20         11/9/2015                 18   \n",
       "8   10/13/2014                 20               NaN                 20   \n",
       "9   10/13/2014                 18               NaN                 18   \n",
       "\n",
       "  decommission_date  \n",
       "0               NaN  \n",
       "1               NaN  \n",
       "2               NaN  \n",
       "3               NaN  \n",
       "4               NaN  \n",
       "5               NaN  \n",
       "6               NaN  \n",
       "7               NaN  \n",
       "8               NaN  \n",
       "9               NaN  "
      ],
      "text/html": "<div>\n<style scoped>\n    .dataframe tbody tr th:only-of-type {\n        vertical-align: middle;\n    }\n\n    .dataframe tbody tr th {\n        vertical-align: top;\n    }\n\n    .dataframe thead th {\n        text-align: right;\n    }\n</style>\n<table border=\"1\" class=\"dataframe\">\n  <thead>\n    <tr style=\"text-align: right;\">\n      <th></th>\n      <th>station_id</th>\n      <th>name</th>\n      <th>lat</th>\n      <th>long</th>\n      <th>install_date</th>\n      <th>install_dockcount</th>\n      <th>modification_date</th>\n      <th>current_dockcount</th>\n      <th>decommission_date</th>\n    </tr>\n  </thead>\n  <tbody>\n    <tr>\n      <th>0</th>\n      <td>BT-01</td>\n      <td>3rd Ave &amp; Broad St</td>\n      <td>47.618418</td>\n      <td>-122.350964</td>\n      <td>10/13/2014</td>\n      <td>18</td>\n      <td>NaN</td>\n      <td>18</td>\n      <td>NaN</td>\n    </tr>\n    <tr>\n      <th>1</th>\n      <td>BT-03</td>\n      <td>2nd Ave &amp; Vine St</td>\n      <td>47.615829</td>\n      <td>-122.348564</td>\n      <td>10/13/2014</td>\n      <td>16</td>\n      <td>NaN</td>\n      <td>16</td>\n      <td>NaN</td>\n    </tr>\n    <tr>\n      <th>2</th>\n      <td>BT-04</td>\n      <td>6th Ave &amp; Blanchard St</td>\n      <td>47.616094</td>\n      <td>-122.341102</td>\n      <td>10/13/2014</td>\n      <td>16</td>\n      <td>NaN</td>\n      <td>16</td>\n      <td>NaN</td>\n    </tr>\n    <tr>\n      <th>3</th>\n      <td>BT-05</td>\n      <td>2nd Ave &amp; Blanchard St</td>\n      <td>47.613110</td>\n      <td>-122.344208</td>\n      <td>10/13/2014</td>\n      <td>14</td>\n      <td>NaN</td>\n      <td>14</td>\n      <td>NaN</td>\n    </tr>\n    <tr>\n      <th>4</th>\n      <td>CBD-03</td>\n      <td>7th Ave &amp; Union St</td>\n      <td>47.610731</td>\n      <td>-122.332447</td>\n      <td>10/13/2014</td>\n      <td>20</td>\n      <td>NaN</td>\n      <td>20</td>\n      <td>NaN</td>\n    </tr>\n    <tr>\n      <th>5</th>\n      <td>CBD-04</td>\n      <td>Union St &amp; 4th Ave</td>\n      <td>47.609221</td>\n      <td>-122.335596</td>\n      <td>7/27/2015</td>\n      <td>18</td>\n      <td>NaN</td>\n      <td>18</td>\n      <td>NaN</td>\n    </tr>\n    <tr>\n      <th>6</th>\n      <td>CBD-05</td>\n      <td>1st Ave &amp; Marion St</td>\n      <td>47.604058</td>\n      <td>-122.335800</td>\n      <td>10/13/2014</td>\n      <td>20</td>\n      <td>NaN</td>\n      <td>20</td>\n      <td>NaN</td>\n    </tr>\n    <tr>\n      <th>7</th>\n      <td>CBD-06</td>\n      <td>2nd Ave &amp; Spring St</td>\n      <td>47.605950</td>\n      <td>-122.335768</td>\n      <td>10/13/2014</td>\n      <td>20</td>\n      <td>11/9/2015</td>\n      <td>18</td>\n      <td>NaN</td>\n    </tr>\n    <tr>\n      <th>8</th>\n      <td>CBD-07</td>\n      <td>City Hall / 4th Ave &amp; James St</td>\n      <td>47.603509</td>\n      <td>-122.330409</td>\n      <td>10/13/2014</td>\n      <td>20</td>\n      <td>NaN</td>\n      <td>20</td>\n      <td>NaN</td>\n    </tr>\n    <tr>\n      <th>9</th>\n      <td>CBD-13</td>\n      <td>2nd Ave &amp; Pine St</td>\n      <td>47.610185</td>\n      <td>-122.339641</td>\n      <td>10/13/2014</td>\n      <td>18</td>\n      <td>NaN</td>\n      <td>18</td>\n      <td>NaN</td>\n    </tr>\n  </tbody>\n</table>\n</div>"
     },
     "metadata": {},
     "execution_count": 5
    }
   ],
   "source": [
    "df.head(10)"
   ]
  },
  {
   "cell_type": "code",
   "execution_count": null,
   "metadata": {},
   "outputs": [],
   "source": []
  }
 ]
}