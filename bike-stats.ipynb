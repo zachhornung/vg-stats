{
 "metadata": {
  "language_info": {
   "codemirror_mode": {
    "name": "ipython",
    "version": 3
   },
   "file_extension": ".py",
   "mimetype": "text/x-python",
   "name": "python",
   "nbconvert_exporter": "python",
   "pygments_lexer": "ipython3",
   "version": "3.9.4"
  },
  "orig_nbformat": 2,
  "kernelspec": {
   "name": "python3",
   "display_name": "Python 3",
   "language": "python"
  }
 },
 "nbformat": 4,
 "nbformat_minor": 2,
 "cells": [
  {
   "cell_type": "code",
   "execution_count": 1,
   "metadata": {},
   "outputs": [],
   "source": [
    "import pandas as pd"
   ]
  },
  {
   "cell_type": "code",
   "execution_count": 2,
   "metadata": {},
   "outputs": [
    {
     "output_type": "stream",
     "name": "stderr",
     "text": [
      "/home/zachhornung/401/vg-stats/.venv/lib/python3.9/site-packages/IPython/core/interactiveshell.py:3169: DtypeWarning: Columns (0,4,11) have mixed types.Specify dtype option on import or set low_memory=False.\n  has_raised = await self.run_ast_nodes(code_ast.body, cell_name,\n"
     ]
    }
   ],
   "source": [
    "station_df = pd.read_csv('station.csv')\n",
    "trip_df = pd.read_csv('trip.csv')\n",
    "weather_df = pd.read_csv('weather.csv')\n"
   ]
  },
  {
   "cell_type": "code",
   "execution_count": 3,
   "metadata": {},
   "outputs": [
    {
     "output_type": "execute_result",
     "data": {
      "text/plain": [
       "  trip_id         starttime          stoptime    bikeid tripduration  \\\n",
       "0     431  10/13/2014 10:31  10/13/2014 10:48  SEA00298      985.935   \n",
       "1     432  10/13/2014 10:32  10/13/2014 10:48  SEA00195      926.375   \n",
       "2     433  10/13/2014 10:33  10/13/2014 10:48  SEA00486      883.831   \n",
       "3     434  10/13/2014 10:34  10/13/2014 10:48  SEA00333      865.937   \n",
       "4     435  10/13/2014 10:34  10/13/2014 10:49  SEA00202      923.923   \n",
       "5     436  10/13/2014 10:34  10/13/2014 10:47  SEA00337      808.805   \n",
       "6     437  10/13/2014 11:35  10/13/2014 11:45  SEA00202      596.715   \n",
       "7     438  10/13/2014 11:35  10/13/2014 11:45  SEA00311      592.131   \n",
       "8     439  10/13/2014 11:35  10/13/2014 11:45  SEA00486      586.347   \n",
       "9     440  10/13/2014 11:35  10/13/2014 11:45  SEA00434      587.634   \n",
       "\n",
       "                                   from_station_name  \\\n",
       "0                                2nd Ave & Spring St   \n",
       "1                                2nd Ave & Spring St   \n",
       "2                                2nd Ave & Spring St   \n",
       "3                                2nd Ave & Spring St   \n",
       "4                                2nd Ave & Spring St   \n",
       "5                                2nd Ave & Spring St   \n",
       "6  Occidental Park / Occidental Ave S & S Washing...   \n",
       "7  Occidental Park / Occidental Ave S & S Washing...   \n",
       "8  Occidental Park / Occidental Ave S & S Washing...   \n",
       "9  Occidental Park / Occidental Ave S & S Washing...   \n",
       "\n",
       "                                     to_station_name from_station_id  \\\n",
       "0  Occidental Park / Occidental Ave S & S Washing...          CBD-06   \n",
       "1  Occidental Park / Occidental Ave S & S Washing...          CBD-06   \n",
       "2  Occidental Park / Occidental Ave S & S Washing...          CBD-06   \n",
       "3  Occidental Park / Occidental Ave S & S Washing...          CBD-06   \n",
       "4  Occidental Park / Occidental Ave S & S Washing...          CBD-06   \n",
       "5  Occidental Park / Occidental Ave S & S Washing...          CBD-06   \n",
       "6  King Street Station Plaza / 2nd Ave Extension ...           PS-04   \n",
       "7  King Street Station Plaza / 2nd Ave Extension ...           PS-04   \n",
       "8  King Street Station Plaza / 2nd Ave Extension ...           PS-04   \n",
       "9  King Street Station Plaza / 2nd Ave Extension ...           PS-04   \n",
       "\n",
       "  to_station_id usertype  gender birthyear  \n",
       "0         PS-04   Member    Male      1960  \n",
       "1         PS-04   Member    Male      1970  \n",
       "2         PS-04   Member  Female      1988  \n",
       "3         PS-04   Member  Female      1977  \n",
       "4         PS-04   Member    Male      1971  \n",
       "5         PS-04   Member    Male      1974  \n",
       "6         PS-05   Member    Male      1978  \n",
       "7         PS-05   Member    Male      1983  \n",
       "8         PS-05   Member  Female      1974  \n",
       "9         PS-05   Member    Male      1958  "
      ],
      "text/html": "<div>\n<style scoped>\n    .dataframe tbody tr th:only-of-type {\n        vertical-align: middle;\n    }\n\n    .dataframe tbody tr th {\n        vertical-align: top;\n    }\n\n    .dataframe thead th {\n        text-align: right;\n    }\n</style>\n<table border=\"1\" class=\"dataframe\">\n  <thead>\n    <tr style=\"text-align: right;\">\n      <th></th>\n      <th>trip_id</th>\n      <th>starttime</th>\n      <th>stoptime</th>\n      <th>bikeid</th>\n      <th>tripduration</th>\n      <th>from_station_name</th>\n      <th>to_station_name</th>\n      <th>from_station_id</th>\n      <th>to_station_id</th>\n      <th>usertype</th>\n      <th>gender</th>\n      <th>birthyear</th>\n    </tr>\n  </thead>\n  <tbody>\n    <tr>\n      <th>0</th>\n      <td>431</td>\n      <td>10/13/2014 10:31</td>\n      <td>10/13/2014 10:48</td>\n      <td>SEA00298</td>\n      <td>985.935</td>\n      <td>2nd Ave &amp; Spring St</td>\n      <td>Occidental Park / Occidental Ave S &amp; S Washing...</td>\n      <td>CBD-06</td>\n      <td>PS-04</td>\n      <td>Member</td>\n      <td>Male</td>\n      <td>1960</td>\n    </tr>\n    <tr>\n      <th>1</th>\n      <td>432</td>\n      <td>10/13/2014 10:32</td>\n      <td>10/13/2014 10:48</td>\n      <td>SEA00195</td>\n      <td>926.375</td>\n      <td>2nd Ave &amp; Spring St</td>\n      <td>Occidental Park / Occidental Ave S &amp; S Washing...</td>\n      <td>CBD-06</td>\n      <td>PS-04</td>\n      <td>Member</td>\n      <td>Male</td>\n      <td>1970</td>\n    </tr>\n    <tr>\n      <th>2</th>\n      <td>433</td>\n      <td>10/13/2014 10:33</td>\n      <td>10/13/2014 10:48</td>\n      <td>SEA00486</td>\n      <td>883.831</td>\n      <td>2nd Ave &amp; Spring St</td>\n      <td>Occidental Park / Occidental Ave S &amp; S Washing...</td>\n      <td>CBD-06</td>\n      <td>PS-04</td>\n      <td>Member</td>\n      <td>Female</td>\n      <td>1988</td>\n    </tr>\n    <tr>\n      <th>3</th>\n      <td>434</td>\n      <td>10/13/2014 10:34</td>\n      <td>10/13/2014 10:48</td>\n      <td>SEA00333</td>\n      <td>865.937</td>\n      <td>2nd Ave &amp; Spring St</td>\n      <td>Occidental Park / Occidental Ave S &amp; S Washing...</td>\n      <td>CBD-06</td>\n      <td>PS-04</td>\n      <td>Member</td>\n      <td>Female</td>\n      <td>1977</td>\n    </tr>\n    <tr>\n      <th>4</th>\n      <td>435</td>\n      <td>10/13/2014 10:34</td>\n      <td>10/13/2014 10:49</td>\n      <td>SEA00202</td>\n      <td>923.923</td>\n      <td>2nd Ave &amp; Spring St</td>\n      <td>Occidental Park / Occidental Ave S &amp; S Washing...</td>\n      <td>CBD-06</td>\n      <td>PS-04</td>\n      <td>Member</td>\n      <td>Male</td>\n      <td>1971</td>\n    </tr>\n    <tr>\n      <th>5</th>\n      <td>436</td>\n      <td>10/13/2014 10:34</td>\n      <td>10/13/2014 10:47</td>\n      <td>SEA00337</td>\n      <td>808.805</td>\n      <td>2nd Ave &amp; Spring St</td>\n      <td>Occidental Park / Occidental Ave S &amp; S Washing...</td>\n      <td>CBD-06</td>\n      <td>PS-04</td>\n      <td>Member</td>\n      <td>Male</td>\n      <td>1974</td>\n    </tr>\n    <tr>\n      <th>6</th>\n      <td>437</td>\n      <td>10/13/2014 11:35</td>\n      <td>10/13/2014 11:45</td>\n      <td>SEA00202</td>\n      <td>596.715</td>\n      <td>Occidental Park / Occidental Ave S &amp; S Washing...</td>\n      <td>King Street Station Plaza / 2nd Ave Extension ...</td>\n      <td>PS-04</td>\n      <td>PS-05</td>\n      <td>Member</td>\n      <td>Male</td>\n      <td>1978</td>\n    </tr>\n    <tr>\n      <th>7</th>\n      <td>438</td>\n      <td>10/13/2014 11:35</td>\n      <td>10/13/2014 11:45</td>\n      <td>SEA00311</td>\n      <td>592.131</td>\n      <td>Occidental Park / Occidental Ave S &amp; S Washing...</td>\n      <td>King Street Station Plaza / 2nd Ave Extension ...</td>\n      <td>PS-04</td>\n      <td>PS-05</td>\n      <td>Member</td>\n      <td>Male</td>\n      <td>1983</td>\n    </tr>\n    <tr>\n      <th>8</th>\n      <td>439</td>\n      <td>10/13/2014 11:35</td>\n      <td>10/13/2014 11:45</td>\n      <td>SEA00486</td>\n      <td>586.347</td>\n      <td>Occidental Park / Occidental Ave S &amp; S Washing...</td>\n      <td>King Street Station Plaza / 2nd Ave Extension ...</td>\n      <td>PS-04</td>\n      <td>PS-05</td>\n      <td>Member</td>\n      <td>Female</td>\n      <td>1974</td>\n    </tr>\n    <tr>\n      <th>9</th>\n      <td>440</td>\n      <td>10/13/2014 11:35</td>\n      <td>10/13/2014 11:45</td>\n      <td>SEA00434</td>\n      <td>587.634</td>\n      <td>Occidental Park / Occidental Ave S &amp; S Washing...</td>\n      <td>King Street Station Plaza / 2nd Ave Extension ...</td>\n      <td>PS-04</td>\n      <td>PS-05</td>\n      <td>Member</td>\n      <td>Male</td>\n      <td>1958</td>\n    </tr>\n  </tbody>\n</table>\n</div>"
     },
     "metadata": {},
     "execution_count": 3
    }
   ],
   "source": [
    "trip_df.head(10)"
   ]
  },
  {
   "cell_type": "code",
   "execution_count": null,
   "metadata": {},
   "outputs": [],
   "source": [
    "duration_avg = trip_df['tripduration'].mean()[0]\n",
    "duration_avg"
   ]
  },
  {
   "cell_type": "code",
   "execution_count": null,
   "metadata": {},
   "outputs": [],
   "source": []
  }
 ]
}