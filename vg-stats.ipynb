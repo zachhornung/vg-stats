{
 "metadata": {
  "language_info": {
   "codemirror_mode": {
    "name": "ipython",
    "version": 3
   },
   "file_extension": ".py",
   "mimetype": "text/x-python",
   "name": "python",
   "nbconvert_exporter": "python",
   "pygments_lexer": "ipython3",
   "version": "3.9.4"
  },
  "orig_nbformat": 2,
  "kernelspec": {
   "name": "python3",
   "display_name": "Python 3",
   "language": "python"
  }
 },
 "nbformat": 4,
 "nbformat_minor": 2,
 "cells": [
  {
   "source": [
    "# Data Analysis with Pandas (Intro)"
   ],
   "cell_type": "markdown",
   "metadata": {}
  },
  {
   "cell_type": "code",
   "execution_count": 68,
   "metadata": {},
   "outputs": [],
   "source": [
    "import numpy as np \n",
    "import pandas as pd\n"
   ]
  },
  {
   "cell_type": "code",
   "execution_count": 69,
   "metadata": {},
   "outputs": [],
   "source": [
    "df = pd.read_csv('vgsales.csv')"
   ]
  },
  {
   "cell_type": "code",
   "execution_count": 70,
   "metadata": {},
   "outputs": [
    {
     "output_type": "execute_result",
     "data": {
      "text/plain": [
       "        Rank                                Name Platform    Year  \\\n",
       "0          1                          Wii Sports      Wii  2006.0   \n",
       "1          2                   Super Mario Bros.      NES  1985.0   \n",
       "2          3                      Mario Kart Wii      Wii  2008.0   \n",
       "3          4                   Wii Sports Resort      Wii  2009.0   \n",
       "4          5            Pokemon Red/Pokemon Blue       GB  1996.0   \n",
       "...      ...                                 ...      ...     ...   \n",
       "15975  15978                 You Don't Know Jack       PC  1995.0   \n",
       "15976  15979                Ouran Koukou Host Bu      PS2  2007.0   \n",
       "15977  15980                     Lotus Challenge       GC  2004.0   \n",
       "15978  15981  Meiji Toukyou Renka: Twilight Kiss      PSP  2015.0   \n",
       "15979  15982               Xblaze: Lost Memories      PS3  2015.0   \n",
       "\n",
       "              Genre               Publisher  NA_Sales  EU_Sales  JP_Sales  \\\n",
       "0            Sports                Nintendo     41.49     29.02      3.77   \n",
       "1          Platform                Nintendo     29.08      3.58      6.81   \n",
       "2            Racing                Nintendo     15.85     12.88      3.79   \n",
       "3            Sports                Nintendo     15.75     11.01      3.28   \n",
       "4      Role-Playing                Nintendo     11.27      8.89     10.22   \n",
       "...             ...                     ...       ...       ...       ...   \n",
       "15975          Misc           Vivendi Games      0.01      0.00      0.00   \n",
       "15976     Adventure            Idea Factory      0.00      0.00      0.02   \n",
       "15977        Racing  Ignition Entertainment      0.01      0.00      0.00   \n",
       "15978        Action                Broccoli      0.00      0.00      0.02   \n",
       "15979     Adventure        Arc System Works      0.01      0.00      0.00   \n",
       "\n",
       "       Other_Sales  Global_Sales  \n",
       "0             8.46         82.74  \n",
       "1             0.77         40.24  \n",
       "2             3.31         35.82  \n",
       "3             2.96         33.00  \n",
       "4             1.00         31.37  \n",
       "...            ...           ...  \n",
       "15975         0.00          0.02  \n",
       "15976         0.00          0.02  \n",
       "15977         0.00          0.02  \n",
       "15978         0.00          0.02  \n",
       "15979         0.00          0.02  \n",
       "\n",
       "[15980 rows x 11 columns]"
      ],
      "text/html": "<div>\n<style scoped>\n    .dataframe tbody tr th:only-of-type {\n        vertical-align: middle;\n    }\n\n    .dataframe tbody tr th {\n        vertical-align: top;\n    }\n\n    .dataframe thead th {\n        text-align: right;\n    }\n</style>\n<table border=\"1\" class=\"dataframe\">\n  <thead>\n    <tr style=\"text-align: right;\">\n      <th></th>\n      <th>Rank</th>\n      <th>Name</th>\n      <th>Platform</th>\n      <th>Year</th>\n      <th>Genre</th>\n      <th>Publisher</th>\n      <th>NA_Sales</th>\n      <th>EU_Sales</th>\n      <th>JP_Sales</th>\n      <th>Other_Sales</th>\n      <th>Global_Sales</th>\n    </tr>\n  </thead>\n  <tbody>\n    <tr>\n      <th>0</th>\n      <td>1</td>\n      <td>Wii Sports</td>\n      <td>Wii</td>\n      <td>2006.0</td>\n      <td>Sports</td>\n      <td>Nintendo</td>\n      <td>41.49</td>\n      <td>29.02</td>\n      <td>3.77</td>\n      <td>8.46</td>\n      <td>82.74</td>\n    </tr>\n    <tr>\n      <th>1</th>\n      <td>2</td>\n      <td>Super Mario Bros.</td>\n      <td>NES</td>\n      <td>1985.0</td>\n      <td>Platform</td>\n      <td>Nintendo</td>\n      <td>29.08</td>\n      <td>3.58</td>\n      <td>6.81</td>\n      <td>0.77</td>\n      <td>40.24</td>\n    </tr>\n    <tr>\n      <th>2</th>\n      <td>3</td>\n      <td>Mario Kart Wii</td>\n      <td>Wii</td>\n      <td>2008.0</td>\n      <td>Racing</td>\n      <td>Nintendo</td>\n      <td>15.85</td>\n      <td>12.88</td>\n      <td>3.79</td>\n      <td>3.31</td>\n      <td>35.82</td>\n    </tr>\n    <tr>\n      <th>3</th>\n      <td>4</td>\n      <td>Wii Sports Resort</td>\n      <td>Wii</td>\n      <td>2009.0</td>\n      <td>Sports</td>\n      <td>Nintendo</td>\n      <td>15.75</td>\n      <td>11.01</td>\n      <td>3.28</td>\n      <td>2.96</td>\n      <td>33.00</td>\n    </tr>\n    <tr>\n      <th>4</th>\n      <td>5</td>\n      <td>Pokemon Red/Pokemon Blue</td>\n      <td>GB</td>\n      <td>1996.0</td>\n      <td>Role-Playing</td>\n      <td>Nintendo</td>\n      <td>11.27</td>\n      <td>8.89</td>\n      <td>10.22</td>\n      <td>1.00</td>\n      <td>31.37</td>\n    </tr>\n    <tr>\n      <th>...</th>\n      <td>...</td>\n      <td>...</td>\n      <td>...</td>\n      <td>...</td>\n      <td>...</td>\n      <td>...</td>\n      <td>...</td>\n      <td>...</td>\n      <td>...</td>\n      <td>...</td>\n      <td>...</td>\n    </tr>\n    <tr>\n      <th>15975</th>\n      <td>15978</td>\n      <td>You Don't Know Jack</td>\n      <td>PC</td>\n      <td>1995.0</td>\n      <td>Misc</td>\n      <td>Vivendi Games</td>\n      <td>0.01</td>\n      <td>0.00</td>\n      <td>0.00</td>\n      <td>0.00</td>\n      <td>0.02</td>\n    </tr>\n    <tr>\n      <th>15976</th>\n      <td>15979</td>\n      <td>Ouran Koukou Host Bu</td>\n      <td>PS2</td>\n      <td>2007.0</td>\n      <td>Adventure</td>\n      <td>Idea Factory</td>\n      <td>0.00</td>\n      <td>0.00</td>\n      <td>0.02</td>\n      <td>0.00</td>\n      <td>0.02</td>\n    </tr>\n    <tr>\n      <th>15977</th>\n      <td>15980</td>\n      <td>Lotus Challenge</td>\n      <td>GC</td>\n      <td>2004.0</td>\n      <td>Racing</td>\n      <td>Ignition Entertainment</td>\n      <td>0.01</td>\n      <td>0.00</td>\n      <td>0.00</td>\n      <td>0.00</td>\n      <td>0.02</td>\n    </tr>\n    <tr>\n      <th>15978</th>\n      <td>15981</td>\n      <td>Meiji Toukyou Renka: Twilight Kiss</td>\n      <td>PSP</td>\n      <td>2015.0</td>\n      <td>Action</td>\n      <td>Broccoli</td>\n      <td>0.00</td>\n      <td>0.00</td>\n      <td>0.02</td>\n      <td>0.00</td>\n      <td>0.02</td>\n    </tr>\n    <tr>\n      <th>15979</th>\n      <td>15982</td>\n      <td>Xblaze: Lost Memories</td>\n      <td>PS3</td>\n      <td>2015.0</td>\n      <td>Adventure</td>\n      <td>Arc System Works</td>\n      <td>0.01</td>\n      <td>0.00</td>\n      <td>0.00</td>\n      <td>0.00</td>\n      <td>0.02</td>\n    </tr>\n  </tbody>\n</table>\n<p>15980 rows × 11 columns</p>\n</div>"
     },
     "metadata": {},
     "execution_count": 70
    }
   ],
   "source": [
    "filtered_df = df[df['Global_Sales'] > 0.01]\n",
    "filtered_df"
   ]
  },
  {
   "cell_type": "code",
   "execution_count": 71,
   "metadata": {},
   "outputs": [],
   "source": [
    "most_common_publisher = filtered_df.Publisher.mode()[0]\n",
    "\n"
   ]
  },
  {
   "cell_type": "code",
   "execution_count": 72,
   "metadata": {},
   "outputs": [],
   "source": [
    "most_common_platform = filtered_df.Platform.mode()[0]\n",
    "# most_common_publisher"
   ]
  },
  {
   "cell_type": "code",
   "execution_count": 73,
   "metadata": {},
   "outputs": [],
   "source": [
    "most_common_genre = filtered_df.Genre.mode()[0]"
   ]
  },
  {
   "cell_type": "code",
   "execution_count": 74,
   "metadata": {},
   "outputs": [],
   "source": [
    "top_twenty_highest_grossing_games = filtered_df[['Name', 'Global_Sales']].sort_values('Global_Sales', ascending=False)\n",
    "\n"
   ]
  },
  {
   "cell_type": "code",
   "execution_count": 75,
   "metadata": {},
   "outputs": [],
   "source": [
    "na_median_sales = filtered_df.NA_Sales.median()"
   ]
  },
  {
   "cell_type": "code",
   "execution_count": 146,
   "metadata": {},
   "outputs": [],
   "source": [
    "\n",
    "median = filtered_df[['NA_Sales']].median()[0]\n",
    "df_filtered_by_median = filtered_df[filtered_df['NA_Sales'] == median].sort_values('Name').head(10)\n",
    "\n",
    "ten_median_na_seller_names = [name for name in df_filtered_by_median['Name']]\n",
    "\n",
    "\n"
   ]
  },
  {
   "cell_type": "code",
   "execution_count": 167,
   "metadata": {},
   "outputs": [
    {
     "output_type": "stream",
     "name": "stderr",
     "text": [
      "<ipython-input-167-5879fbf0499d>:4: UserWarning: Boolean Series key will be reindexed to match DataFrame index.\n  top_selling_game = filtered_df[df['Global_Sales'] == top]\n"
     ]
    }
   ],
   "source": [
    "std_NA = filtered_df[['NA_Sales']].std()[0]\n",
    "mean_NA = filtered_df[['NA_Sales']].mean()[0]\n",
    "top = filtered_df['Global_Sales'].max()\n",
    "top_selling_game = filtered_df[df['Global_Sales'] == top]\n",
    "top_game_std = std_NA/mean_NA"
   ]
  },
  {
   "cell_type": "code",
   "execution_count": 174,
   "metadata": {},
   "outputs": [
    {
     "output_type": "execute_result",
     "data": {
      "text/plain": [
       "Platform\n",
       "2600    0.729925\n",
       "3DO     0.033333\n",
       "3DS     0.486169\n",
       "DC      0.307115\n",
       "DS      0.380254\n",
       "GB      2.606633\n",
       "GBA     0.387470\n",
       "GC      0.358561\n",
       "GEN     1.050370\n",
       "GG      0.040000\n",
       "N64     0.686144\n",
       "NES     2.561939\n",
       "NG      0.120000\n",
       "PC      0.269604\n",
       "PCFX    0.030000\n",
       "PS      0.610920\n",
       "PS2     0.581046\n",
       "PS3     0.720722\n",
       "PS4     0.827679\n",
       "PSP     0.244254\n",
       "PSV     0.149952\n",
       "SAT     0.194162\n",
       "SCD     0.311667\n",
       "SNES    0.837029\n",
       "TG16    0.080000\n",
       "WS      0.236667\n",
       "Wii     0.699404\n",
       "WiiU    0.572448\n",
       "X360    0.774672\n",
       "XB      0.313422\n",
       "XOne    0.662254\n",
       "Name: Global_Sales, dtype: float64"
      ]
     },
     "metadata": {},
     "execution_count": 174
    }
   ],
   "source": [
    "sales = df.groupby('Platform')['Global_Sales'].mean()\n",
    "sales"
   ]
  },
  {
   "cell_type": "code",
   "execution_count": 168,
   "metadata": {},
   "outputs": [
    {
     "output_type": "stream",
     "name": "stdout",
     "text": [
      "Success!!!\n"
     ]
    }
   ],
   "source": [
    "def test():\n",
    "\n",
    "    def assert_equal(actual,expected):\n",
    "        assert actual == expected, f\"Expected {expected} but got {actual}\"\n",
    "\n",
    "    assert_equal(most_common_publisher, 'Electronic Arts')\n",
    "    assert_equal(most_common_platform, 'PS2')\n",
    "    assert_equal(most_common_genre, 'Action')\n",
    "    assert_equal(top_twenty_highest_grossing_games.iloc[0].Name, 'Wii Sports')\n",
    "    assert_equal(top_twenty_highest_grossing_games.iloc[19].Name, 'Brain Age: Train Your Brain in Minutes a Day')\n",
    "    assert_equal(na_median_sales, 0.08)\n",
    "    assert_equal(ten_median_na_seller_names, ['1 vs. 100', '101-in-1 Sports Megamix', '18 Wheels of Steel: Extreme Trucker 2', '50 Cent: Bulletproof', 'A Witch\\'s Tale', 'AC/DC LIVE: Rock Band Track Pack', 'Agatha Christie: The ABC Murders', 'Agile Warrior F-111X', 'Aidyn Chronicles: The First Mage', 'Akiba\\'s Trip: Undead & Undressed'])\n",
    "    assert_equal(top_game_std, 3.0227112739649478)\n",
    "\n",
    "    print(\"Success!!!\")\n",
    "\n",
    "test()"
   ]
  },
  {
   "cell_type": "code",
   "execution_count": null,
   "metadata": {},
   "outputs": [],
   "source": []
  }
 ]
}